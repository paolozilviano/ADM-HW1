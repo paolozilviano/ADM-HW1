{
 "cells": [
  {
   "cell_type": "markdown",
   "id": "b3f67da5",
   "metadata": {},
   "source": [
    "# 5. Algorithmic Questions (AQ)"
   ]
  },
  {
   "cell_type": "markdown",
   "id": "c25a8ba2",
   "metadata": {},
   "source": [
    "---\n",
    "## Part A\n",
    "### 1. Implement an algorithm to solve the described mentioned problem."
   ]
  },
  {
   "cell_type": "code",
   "execution_count": 1,
   "id": "8082d903",
   "metadata": {},
   "outputs": [
    {
     "name": "stdout",
     "output_type": "stream",
     "text": [
      "14 10 1\n",
      "SWM VOL ATH VOL VOL BSK HCK BSK SWM BSK\n",
      "1\n",
      "BSK 98\n",
      "2\n",
      "ATH 14\n",
      "3\n",
      "HCK 82\n",
      "4\n",
      "HCK 9\n",
      "5\n",
      "FTB 90\n",
      "6\n",
      "ATH 52\n",
      "7\n",
      "HCK 95\n",
      "8\n",
      "TEN 85\n",
      "9\n",
      "RGB 46\n",
      "10\n",
      "SWM 16\n",
      "11\n",
      "VOL 32\n",
      "12\n",
      "SOC 41\n",
      "13\n",
      "SWM 59\n",
      "14\n",
      "SWM 34\n",
      "370\n"
     ]
    }
   ],
   "source": [
    "nms = list(map(int, input().split()))\n",
    "n = nms[0]\n",
    "m = nms[1]\n",
    "s = nms[2]\n",
    "\n",
    "sports = list(map(str, input().split()))\n",
    "assert len(sports) == m, f\"We need a set of {m} sports.\"\n",
    "assert all(len(s) == 3 and s.isalpha() and s.isupper() for s in sports), \"Every element of the list must be a 3-character string with only uppercase letters.\"\n",
    "\n",
    "athl = dict()\n",
    "\n",
    "for i in range(n):\n",
    "    ix = int(input()) #ix = int(input('id of the athlete: '))\n",
    "    athl[ix] = {} #initializing a dictionary for each athlete which \n",
    "                  #will contain as key the sport and as value the proficiency of that skill\n",
    "    for j in range(s):\n",
    "        l = list(map(str, input().split()))\n",
    "        athl[ix][str(l[0])] = int(l[1])\n",
    "        \n",
    "ovr = 0  #initializing the overall score\n",
    "tkn = list() #list of athletes (ids) who are already participating for a determined sport\n",
    "for i in sports:\n",
    "    mx = 0\n",
    "    for j in range(1, n + 1):\n",
    "        if i in athl[j].keys() and athl[j][i] > mx and j not in tkn:\n",
    "            mx = athl[j][i]\n",
    "            tk = j\n",
    "    ovr += mx\n",
    "    tkn.append(tk)\n",
    "    if len(tkn) == m:\n",
    "        break\n",
    "    \n",
    "print(ovr)\n",
    "\n",
    "# Input 1 expected output:  370"
   ]
  },
  {
   "cell_type": "code",
   "execution_count": 2,
   "id": "741b4c4e",
   "metadata": {},
   "outputs": [
    {
     "name": "stdout",
     "output_type": "stream",
     "text": [
      "14 10 2\n",
      "SWM VOL ATH VOL VOL BSK HCK BSK SWM BSK\n",
      "1\n",
      "BSK 98\n",
      "HCK 12\n",
      "2\n",
      "ATH 14\n",
      "VOL 1\n",
      "3\n",
      "HCK 82\n",
      "ATH 30\n",
      "4\n",
      "HCK 9\n",
      "SWM 27\n",
      "5\n",
      "FTB 90\n",
      "HCK 50\n",
      "6\n",
      "ATH 52\n",
      "RGB 80\n",
      "7\n",
      "HCK 95\n",
      "SWM 11\n",
      "8\n",
      "TEN 85\n",
      "RGB 7\n",
      "9\n",
      "RGB 46\n",
      "SWM 30\n",
      "10\n",
      "SWM 16\n",
      "BSK 12\n",
      "11\n",
      "VOL 32\n",
      "HCK 40\n",
      "12\n",
      "SOC 41\n",
      "FTB 12\n",
      "13\n",
      "SWM 59\n",
      "TEN 82\n",
      "14\n",
      "SWM 34\n",
      "VOL 20\n",
      "399\n"
     ]
    }
   ],
   "source": [
    "nms = list(map(int, input().split()))\n",
    "n = nms[0]\n",
    "m = nms[1]\n",
    "s = nms[2]\n",
    "\n",
    "sports = list(map(str, input().split()))\n",
    "assert len(sports) == m, f\"We need a set of {m} sports.\"\n",
    "assert all(len(s) == 3 and s.isalpha() and s.isupper() for s in sports), \"Every element of the list must be a 3-character string with only uppercase letters.\"\n",
    "\n",
    "athl = dict()\n",
    "\n",
    "for i in range(n):\n",
    "    ix = int(input()) #ix = int(input('id of the athlete: '))\n",
    "    athl[ix] = {} #initializing a dictionary for each athlete which \n",
    "                  #will contain as key the sport and as value the proficiency of that skill\n",
    "    for j in range(s):\n",
    "        l = list(map(str, input().split()))\n",
    "        athl[ix][str(l[0])] = int(l[1])\n",
    "        \n",
    "ovr = 0  #initializing the overall score\n",
    "tkn = list() #list of athletes (ids) who are already participating for a determined sport\n",
    "for i in sports:\n",
    "    mx = 0\n",
    "    for j in range(1, n + 1):\n",
    "        if i in athl[j].keys() and athl[j][i] > mx and j not in tkn:\n",
    "            mx = athl[j][i]\n",
    "            tk = j\n",
    "    ovr += mx\n",
    "    tkn.append(tk)\n",
    "    if len(tkn) == m:\n",
    "        break\n",
    "    \n",
    "print(ovr)\n",
    "\n",
    "# Input 2 expected output:  399"
   ]
  },
  {
   "cell_type": "markdown",
   "id": "94063d49",
   "metadata": {},
   "source": [
    "---\n",
    "### 2. What is the time complexity (the Big O notation) of your solution? Please provide a detailed explanation of how you calculated the time complexity.\n",
    "\n",
    "In the first for loop we are iterating on $n$ to initialize the dictionary for each athlete (`len(athl) = n`) and inside this loop there is another one which iterates on $s$ to take as imput all the proficiencies in each of the $s$ sport for each athlete.\n",
    "Then in the final big for loop we are iterating on the list \"sport\" which has `len(sports) = m` , while inside we iterate again on the $n$ athletes. So if we calculate the big O time complexity it will be:\n",
    "\n",
    "\\begin{align}\n",
    "O(n \\cdot s) + O (m \\cdot n) = O(n \\cdot s + m \\cdot n) = O(n \\cdot (m+s))\n",
    "\\end{align}"
   ]
  },
  {
   "cell_type": "markdown",
   "id": "926f0885",
   "metadata": {},
   "source": [
    "---\n",
    "### 3. Ask ChatGPT or any other LLM chatbot tool to check your code's time complexity (the Big O notation). Compare your answer to theirs. If the two differ, which one is right? (why?)\n",
    "\n",
    "We asked ChatGPT and this was the answer:\n",
    "\n",
    "\n",
    "Let's analyze the time complexity of the provided algorithm.\n",
    "\n",
    "1. **Input Reading:**\n",
    "   - Reading the number of athletes (`n`), athletes to be chosen (`m`), and the number of sports skills per athlete (`s`) takes constant time, O(1).\n",
    "\n",
    "2. **Sports Input:**\n",
    "   - Reading the list of sports skills (`sports`) takes O(s) time, where s is the number of sports skills.\n",
    "\n",
    "3. **Athlete Information Input:**\n",
    "   - Reading information about each athlete (athlete ID, sports skills, and proficiency) involves a nested loop. The outer loop runs 'n' times (number of athletes), and the inner loop runs 's' times (number of sports skills per athlete). So, the time complexity of this part is O(n ⋅ s).\n",
    "\n",
    "4. **Sport Selection Loop:**\n",
    "   - The outer loop runs 's' times (number of sports). In each iteration, there is an inner loop over all athletes ('n' athletes) to find the athlete with the highest proficiency in the current sport. In the worst case, each athlete is considered for each sport, resulting in a time complexity of O(s ⋅ n).\n",
    "\n",
    "5. **Overall Complexity:**\n",
    "   - Combining the complexities of the above steps, the overall time complexity is O(1) + O(s) + O(n ⋅ s) + O(s ⋅ n), which simplifies to O(n ⋅ s).\n",
    "\n",
    "Therefore, the big O complexity of this algorithm is O(n ⋅ s), where 'n' is the number of athletes, and 's' is the number of sports skills per athlete.\n",
    "\n",
    "\n",
    "### Giving ChatGPT the code it assumed that the length of the list of the m sports was s, so this answer is wrong!"
   ]
  },
  {
   "cell_type": "markdown",
   "id": "beb57664",
   "metadata": {},
   "source": [
    "---\n",
    "### 4. If you algorithm has exponential time complexity, can you provide a polynomial-time version?\n",
    "The algorithm has not exponential complexity"
   ]
  },
  {
   "cell_type": "markdown",
   "id": "09722eef",
   "metadata": {},
   "source": [
    "### 5. If S = 1, how does the time complexity of an optimal algorithm to solve this problem change?\n",
    "If we watch the answer above in point 1 we can see that if we replace s with 1 the equation would be:\n",
    "\n",
    "\\begin{align}\n",
    "O(n \\cdot 1) + O (m \\cdot n) = O(n + m \\cdot n) = O(m \\cdot n)\n",
    "\\end{align}"
   ]
  },
  {
   "cell_type": "markdown",
   "id": "7b95d3d7",
   "metadata": {},
   "source": [
    "---\n",
    "## Part B"
   ]
  },
  {
   "cell_type": "code",
   "execution_count": null,
   "id": "0ae7f215",
   "metadata": {},
   "outputs": [],
   "source": []
  }
 ],
 "metadata": {
  "kernelspec": {
   "display_name": "Python 3 (ipykernel)",
   "language": "python",
   "name": "python3"
  },
  "language_info": {
   "codemirror_mode": {
    "name": "ipython",
    "version": 3
   },
   "file_extension": ".py",
   "mimetype": "text/x-python",
   "name": "python",
   "nbconvert_exporter": "python",
   "pygments_lexer": "ipython3",
   "version": "3.11.4"
  }
 },
 "nbformat": 4,
 "nbformat_minor": 5
}
